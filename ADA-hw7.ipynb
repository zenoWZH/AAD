{
 "cells": [
  {
   "cell_type": "code",
   "execution_count": 1,
   "metadata": {},
   "outputs": [],
   "source": [
    "import numpy as np\n",
    "import matplotlib.pyplot as plt\n",
    "%matplotlib inline"
   ]
  },
  {
   "cell_type": "markdown",
   "metadata": {},
   "source": [
    "##### Data preparation"
   ]
  },
  {
   "cell_type": "code",
   "execution_count": 78,
   "metadata": {
    "scrolled": true
   },
   "outputs": [],
   "source": [
    "n = 90\n",
    "c = 3\n",
    "\n",
    "y1 = np.ones((int(n/c),1), dtype=int)\n",
    "y2 = np.ones((int(n/c),1), dtype=int)*2\n",
    "y3 = np.ones((int(n/c),1), dtype=int)*3\n",
    "y  = np.concatenate((y1,y2,y3), 0)\n",
    "y  = y.squeeze()\n",
    "\n",
    "\n",
    "x1 = np.random.randn(int(n/c),c) + \\\n",
    "     np.tile(np.linspace(-3,3,c), (int(n/c), 1))\n",
    "x  = sorted(x1.flatten())\n",
    "x  = np.float64(x)[:,np.newaxis]\n",
    "\n",
    "\n",
    "hh = 2*(1**2)\n",
    "t0 = np.random.randn(n,c)\n",
    "e  = 0.1\n",
    "l  = 100\n",
    "\n",
    "xx = np.power(x,2)\n",
    "K1 = np.tile(xx, (1,n))\n",
    "K2 = np.tile(xx.T, (n,1)) \n",
    "K3 = 2*(x.dot(x.T))\n",
    "K  = np.exp(-(K1+K2-K3)/hh)\n",
    "\n",
    "phi1 = (np.eye(np.max(y)+1)[y])\n",
    "phi = np.delete(phi1, 0, axis=1)\n",
    "\n",
    "t = np.linalg.inv((K.T.dot(K) + l*np.eye(n))) @ (K.T @ phi)"
   ]
  },
  {
   "cell_type": "markdown",
   "metadata": {},
   "source": [
    "##### Testing data "
   ]
  },
  {
   "cell_type": "code",
   "execution_count": 64,
   "metadata": {},
   "outputs": [],
   "source": [
    "N = 100\n",
    "X = np.linspace(-5,5,N)[:,np.newaxis]\n",
    "XX = X**2\n",
    "\n",
    "KX1 = np.tile(XX, (1,n))\n",
    "KX2 = np.tile(xx.T,(N,1))\n",
    "KX3 = 2*X.dot(x.T)\n",
    "KX = np.exp(-(KX1+KX2-KX3)/hh)"
   ]
  },
  {
   "cell_type": "markdown",
   "metadata": {},
   "source": [
    "##### Plotting"
   ]
  },
  {
   "cell_type": "code",
   "execution_count": 34,
   "metadata": {},
   "outputs": [],
   "source": [
    "C = KX@t\n",
    "nn = np.tile(C.sum(1)[:,np.newaxis],(1,c))\n",
    "CC = C/nn"
   ]
  },
  {
   "cell_type": "code",
   "execution_count": 75,
   "metadata": {
    "scrolled": true
   },
   "outputs": [
    {
     "data": {
      "text/plain": [
       "<matplotlib.legend.Legend at 0x2592aaed278>"
      ]
     },
     "execution_count": 75,
     "metadata": {},
     "output_type": "execute_result"
    },
    {
     "data": {
      "image/png": "[encoded data removed]",
      "text/plain": [
       "<matplotlib.figure.Figure at 0x2592ad79668>"
      ]
     },
     "metadata": {},
     "output_type": "display_data"
    }
   ],
   "source": [
    "plt.plot(X,CC[:,0],'b-', label='p(y=1|x)')\n",
    "plt.plot(X,CC[:,1],'r--', label='p(y=2|x)')\n",
    "plt.plot(X,CC[:,2],'g:', label='p(y=3|x)')\n",
    "plt.plot(x[y==1], -0.1*np.ones((30,1)),'bo')\n",
    "plt.plot(x[y==2], -0.2*np.ones((30,1)),'rx')\n",
    "plt.plot(x[y==3], -0.1*np.ones((30,1)),'g*')\n",
    "plt.xlim(-5,5)\n",
    "plt.legend(bbox_to_anchor=(1.05, 1), loc='best', borderaxespad=0.5)"
   ]
  },
  {
   "cell_type": "code",
   "execution_count": null,
   "metadata": {
    "collapsed": true
   },
   "outputs": [],
   "source": []
  }
 ],
 "metadata": {
  "kernelspec": {
   "display_name": "Python 3",
   "language": "python",
   "name": "python3"
  },
  "language_info": {
   "codemirror_mode": {
    "name": "ipython",
    "version": 3
   },
   "file_extension": ".py",
   "mimetype": "text/x-python",
   "name": "python",
   "nbconvert_exporter": "python",
   "pygments_lexer": "ipython3",
   "version": "3.5.3"
  }
 },
 "nbformat": 4,
 "nbformat_minor": 2
}
