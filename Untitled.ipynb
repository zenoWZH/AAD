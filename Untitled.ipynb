{
 "cells": [
  {
   "cell_type": "code",
   "execution_count": 1,
   "metadata": {
    "collapsed": true
   },
   "outputs": [],
   "source": [
    "import numpy as np\n",
    "import time\n",
    "import matplotlib.pyplot as plt\n",
    "%matplotlib inline"
   ]
  },
  {
   "cell_type": "code",
   "execution_count": 13,
   "metadata": {},
   "outputs": [
    {
     "ename": "SyntaxError",
     "evalue": "invalid character in identifier (<ipython-input-13-ab0df407e745>, line 3)",
     "output_type": "error",
     "traceback": [
      "\u001b[1;36m  File \u001b[1;32m\"<ipython-input-13-ab0df407e745>\"\u001b[1;36m, line \u001b[1;32m3\u001b[0m\n\u001b[1;33m    x2 = np.random.randn(1, int(n/2))‐5\u001b[0m\n\u001b[1;37m                                      ^\u001b[0m\n\u001b[1;31mSyntaxError\u001b[0m\u001b[1;31m:\u001b[0m invalid character in identifier\n"
     ]
    }
   ],
   "source": [
    "n = 50\n",
    "x1 = np.random.randn(1, int(n/2))-15\n",
    "x2 = np.random.randn(1, int(n/2))‐5\n",
    "x3 = np.random.randn(1, n)\n",
    "x4 = np.concatenate((x1,x2), axis=1) #horizontal\n",
    "x = np.concatenate((x4, x3), axis=0).T #vertical\n",
    "r = 0.1\n",
    "y1 = np.ones((int(n/2), 1))\n",
    "y2 = ‐np.ones((int(n/2), 1))\n",
    "y = np.concatenate((y1,y2), axis=0)\n",
    "x[0:int(r*n),0][:,np.newaxis] = \\\n",
    "(x[0:int(r*n),0][:,np.newaxis]+10)\n",
    "x5 = np.ones((len(x), 1))\n",
    "x = np.hstack((x, x5))\n",
    "p = list(range(n)) # setting randomist\n",
    "np.random.shuffle(p)\n",
    "# let the figures randomdize\n",
    "x = x[p,:]\n",
    "y = y[p]  \n",
    " \n",
    "# Adaptive Regularization\n",
    "t0 = np.random.randn(3,1)\n",
    "s0 = np.random.randn(3,3)\n",
    "g = 0.01\n",
    "for o in range((n*1000)):\n",
    "q = list(range(n))\n",
    "np.random.shuffle(q)\n",
    "i = q[1]\n",
    "xi = x[i,:][:,np.newaxis]\n",
    "yi = y[i]\n",
    "m = t0.T @ xi @ yi\n",
    "if m < 1:\n",
    "t = t0 + ((yi*(1‐m)) * s0 @ xi / (xi.T @ s0 @ xi + g))\n",
    "s = s0 ‐ (s0 @ (xi @ xi.T) @ s0) / (xi.T @ s0 @ xi + g)\n",
    "s0 = s\n",
    "t0 = t  \n",
    " \n",
    "# least square + l2 regularization\n",
    "tc0 = np.random.randn(3,1)\n",
    "s2 = np.random.randn(3,3)\n",
    "g = 0.01\n",
    "for a in range((n*1000)):\n",
    "q = list(range(n))\n",
    "np.random.shuffle(q)\n",
    "i = q[1]\n",
    "xi = x[i,:][:,np.newaxis]\n",
    "yi = y[i]\n",
    "tc = tc0 ‐ (tc0.T @ xi ‐ yi) * s2 @ xi / (xi.T @ s2 @ xi +g)\n",
    "s1 = s2 ‐ (s2 @ (xi @ xi.T) @ s2) / (xi.T @ s2 @ xi + g)\n",
    "tc0 = tc\n",
    "s2 = s1  \n",
    " \n",
    "# Passive‐Aggressive\n",
    "ta0 = np.zeros((3,1))\n",
    "g = 0.01\n",
    "for a in range((n*1000)):\n",
    "q = list(range(n))\n",
    "np.random.shuffle(q)\n",
    "i = q[1]\n",
    "xi = x[i,:][:,np.newaxis]\n",
    "yi = y[i]\n",
    "max_ = 1 ‐ ta0.T @ xi @ yi\n",
    "if max_ <= 0:\n",
    "max_ = 0\n",
    "else:\n",
    "max_ = 1 ‐ ta0.T @ xi @ yi\n",
    "ta = ta0 + ((yi*max_) * xi / (xi.T @ xi + g))\n",
    "ta0 = ta  \n",
    "xp0 = x[:,0][:,np.newaxis][y==1][:,np.newaxis]\n",
    "xp1 = x[:,1][:,np.newaxis][y==1][:,np.newaxis]\n",
    "xp2 = x[:,2][:,np.newaxis][y==1][:,np.newaxis]\n",
    "xp = np.hstack((np.hstack((xp0,xp1)),xp2))\n",
    "xn0 = x[:,0][:,np.newaxis][y==‐1][:,np.newaxis]\n",
    "xn1 = x[:,1][:,np.newaxis][y==‐1][:,np.newaxis]\n",
    "xn2 = x[:,2][:,np.newaxis][y==‐1][:,np.newaxis]\n",
    "xn = np.hstack((np.hstack((xn0,xn1)),xn2))\n",
    "plt.plot(xp[:,0], xp[:,1], 'bo', label = 'y = +1')\n",
    "plt.plot(xn[:,0], xn[:,1], 'rx', label = 'y = ‐1')\n",
    "N = 100\n",
    "X = np.linspace(‐15,5,N)\n",
    "plt.plot(X, ‐(tc[2]+tc[0]*X)/tc[1], 'm‐', label='Least Square Error + L2 Regularization')\n",
    "plt.plot(X, ‐(ta[2]+ta[0]*X)/ta[1], 'c‐', label='Passive‐Aggressive')\n",
    "plt.plot(X, ‐(t[2]+t[0]*X)/t[1], 'g‐', label='Adaptive Regularization')\n",
    "plt.xlim(‐20,0)\n",
    "plt.ylim(‐2,2)\n",
    "plt.legend(bbox_to_anchor=(1.05, 1),\n",
    "loc='best', borderaxespad=0.9)\n",
    "plt.show()  \n"
   ]
  },
  {
   "cell_type": "code",
   "execution_count": null,
   "metadata": {
    "collapsed": true
   },
   "outputs": [],
   "source": []
  }
 ],
 "metadata": {
  "kernelspec": {
   "display_name": "Python 3",
   "language": "python",
   "name": "python3"
  },
  "language_info": {
   "codemirror_mode": {
    "name": "ipython",
    "version": 3
   },
   "file_extension": ".py",
   "mimetype": "text/x-python",
   "name": "python",
   "nbconvert_exporter": "python",
   "pygments_lexer": "ipython3",
   "version": "3.5.3"
  }
 },
 "nbformat": 4,
 "nbformat_minor": 2
}
