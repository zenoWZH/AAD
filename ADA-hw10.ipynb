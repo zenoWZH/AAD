{
 "cells": [
  {
   "cell_type": "code",
   "execution_count": 191,
   "metadata": {
    "collapsed": true
   },
   "outputs": [],
   "source": [
    "import numpy as np\n",
    "import matplotlib.pyplot as plt\n",
    "%matplotlib inline"
   ]
  },
  {
   "cell_type": "code",
   "execution_count": 200,
   "metadata": {
    "collapsed": false
   },
   "outputs": [],
   "source": [
    "n = 400\n",
    "x = np.hstack((np.random.randn(n,1), np.random.randn(n,1)))\n",
    "#x = np.hstack((2*np.random.randn(n,1),\n",
    "               #(2*np.random.randn(n,1))-\\\n",
    "               #-1+np.random.randn(n,1)/3))\n",
    "m = np.array([x[:,0].mean(),x[:,1].mean()])[np.newaxis,:]\n",
    "x = x - np.tile(m, (n,1))\n",
    "x2 = np.sum(x**2, 1)\n",
    "W = np.exp(-np.tile(x2, np.array([n,1])) \\\n",
    "             + np.tile(x2.T, (n,1)) - (2*x).dot(x.T))\n",
    "D = np.diag(np.sum(W,1)) \n",
    "L = D-W\n",
    "z = np.dot(x.T.dot(D),x)\n",
    "z = (z+z.T) / 2\n",
    "\n",
    "e = np.array(x.T.dot(L).dot(x))\n",
    "t, v = np.linalg.eig(e-z)"
   ]
  },
  {
   "cell_type": "markdown",
   "metadata": {},
   "source": [
    "##### plot the graph "
   ]
  },
  {
   "cell_type": "code",
   "execution_count": 201,
   "metadata": {
    "collapsed": false
   },
   "outputs": [
    {
     "data": {
      "image/png": "[encoded data removed]",
      "text/plain": [
       "<matplotlib.figure.Figure at 0x23f5028dcf8>"
      ]
     },
     "metadata": {},
     "output_type": "display_data"
    }
   ],
   "source": [
    "tt = np.hstack(9*(-t[0], t[0]))\n",
    "rr = np.hstack(9*(-t[1], t[1]))\n",
    "plt.plot(x[:,0], x[:,1], 'rx')\n",
    "plt.plot(tt,rr)\n",
    "plt.xlim(-6,6)\n",
    "plt.ylim(-6,6)\n",
    "plt.show()"
   ]
  },
  {
   "cell_type": "code",
   "execution_count": null,
   "metadata": {
    "collapsed": false
   },
   "outputs": [],
   "source": []
  }
 ],
 "metadata": {
  "kernelspec": {
   "display_name": "Python 3",
   "language": "python",
   "name": "python3"
  },
  "language_info": {
   "codemirror_mode": {
    "name": "ipython",
    "version": 3
   },
   "file_extension": ".py",
   "mimetype": "text/x-python",
   "name": "python",
   "nbconvert_exporter": "python",
   "pygments_lexer": "ipython3",
   "version": "3.6.0"
  }
 },
 "nbformat": 4,
 "nbformat_minor": 2
}
